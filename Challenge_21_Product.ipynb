{
  "nbformat": 4,
  "nbformat_minor": 0,
  "metadata": {
    "colab": {
      "name": "Challenge - 21 : Product.ipynb",
      "provenance": [],
      "authorship_tag": "ABX9TyOLNvVk5Efy4++R/qI3Yhd1"
    },
    "kernelspec": {
      "name": "python3",
      "display_name": "Python 3"
    }
  },
  "cells": [
    {
      "cell_type": "markdown",
      "metadata": {
        "id": "OuvIfhYG6p8n"
      },
      "source": [
        "## Multiplication between odd and even (100 Marks)\n",
        "For this challenge, you need to take number of elements as input on one line and array elements as an input on another line. You need to find the numbers that are odd, add them. find the numbers that are even add them and then multiply the two values that you get after addition of even numbers and that of addition of odd numbers.\n",
        "\n",
        "Input Format\n",
        "In this challenge, you will take number of elements as input on one line and array elements which are space separated as input on another line. \n",
        "\n",
        "Constraints\n",
        "1<  N < 10^5\n",
        "1 < A[i] < 10^5\n",
        "\n",
        "Output Format\n",
        "You will print the value after multiplication to the stdout. \n",
        "\n",
        "Sample TestCase 1\n",
        "Input\n",
        "6\n",
        "11 22 33 44 55 66\n",
        "Output\n",
        "13068"
      ]
    },
    {
      "cell_type": "code",
      "metadata": {
        "colab": {
          "base_uri": "https://localhost:8080/"
        },
        "id": "_-KYoaHO6ota",
        "outputId": "41492f89-4db7-4bc3-911d-deaa5ebb4f23"
      },
      "source": [
        "def main():\n",
        "\n",
        " # Write code here \n",
        " a = int(input())\n",
        " lst = list(map(int,input(\"\").strip().split()))[:a]\n",
        " even_r = 0\n",
        " odd_r = 0\n",
        "\n",
        " for i in range(a): \n",
        "    if lst[i] % 2 == 0 : \n",
        "        even_r += lst[i]\n",
        "    else: \n",
        "        odd_r += lst[i]\n",
        " print(even_r*odd_r)  \n",
        "\n",
        "main()"
      ],
      "execution_count": 1,
      "outputs": [
        {
          "output_type": "stream",
          "text": [
            "7\n",
            "1 5 33 4 1 4 11\n",
            "408\n"
          ],
          "name": "stdout"
        }
      ]
    },
    {
      "cell_type": "code",
      "metadata": {
        "id": "SGDtouJ-6vLH"
      },
      "source": [
        ""
      ],
      "execution_count": null,
      "outputs": []
    }
  ]
}