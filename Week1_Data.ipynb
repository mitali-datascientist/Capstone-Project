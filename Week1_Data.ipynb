{
  "nbformat": 4,
  "nbformat_minor": 0,
  "metadata": {
    "colab": {
      "name": "Week1-Data.ipynb",
      "provenance": [],
      "authorship_tag": "ABX9TyMVyVfK0IItX5oQYZlf+wCF",
      "include_colab_link": true
    },
    "kernelspec": {
      "name": "python3",
      "display_name": "Python 3"
    }
  },
  "cells": [
    {
      "cell_type": "markdown",
      "metadata": {
        "id": "view-in-github",
        "colab_type": "text"
      },
      "source": [
        "<a href=\"https://colab.research.google.com/github/mitali-datascientist/Coursera_Capstone/blob/master/Week1_Data.ipynb\" target=\"_parent\"><img src=\"https://colab.research.google.com/assets/colab-badge.svg\" alt=\"Open In Colab\"/></a>"
      ]
    },
    {
      "cell_type": "markdown",
      "metadata": {
        "id": "yNMKcRlnqwqz",
        "colab_type": "text"
      },
      "source": [
        "# **The Battle of the Neighborhoods - Week 1**\n",
        "\n",
        "### **Data** \n",
        "One city will be analysed in this project : New York\n",
        "\n",
        "We will be using the below datasets for analysing New York City\n",
        "\n",
        "Data 1 : Neighborhood has a total of 5 boroughs and 306 neighborhoods. In order to segement the neighborhoods and explore them, we will essentially need a dataset that contains the 5 boroughs and the neighborhoods that exist in each borough as well as the the latitude and logitude coordinates of each neighborhood.\n",
        "\n",
        "This dataset exists for free on the web. Link to the dataset is : https://geo.nyu.edu/catalog/nyu_2451_34572\n",
        "\n",
        "Data 2 : Second data which will be used is the DOHMH Farmers Markets and Food Boxes dataset. In this we will be using the data of Farmers Markets.\n",
        "\n",
        "https://data.cityofnewyork.us/dataset/DOHMH-Farmers-Markets-and-Food-Boxes/8vwk-6iz2\n",
        "\n",
        "Website-https://www.grownyc.org/greenmarketco/foodbox\n",
        "GrowNYC's Fresh Food Box Program is a food access initiative that enables under-served communities to purchase fresh, healthy, and primarily regionally grown produce well below traditional retail prices.\n",
        "\n",
        "A farmers' market is often defined as a public site used by two or more local or regional producers for the direct sale of farm products to consumers. In addition to fresh fruits and vegetables, markets may sell dairy products, fish, meat, baked goods, and other minimally processed foods.\n",
        "\n",
        "Data 3 : For the below analysis we will get data from wikipedia as given below :\n",
        "\n",
        "New York Population\n",
        "New York City Demographics\n",
        "Cuisine of New York city\n",
        "https://en.wikipedia.org/wiki/New_York_City\n",
        "https://en.wikipedia.org/wiki/Economy_of_New_York_City\n",
        "https://en.wikipedia.org/wiki/Portal:New_York_City\n",
        "https://en.wikipedia.org/wiki/Cuisine_of_New_York_City\n",
        "https://en.wikipedia.org/wiki/List_of_Michelin_starred_restaurants_in_New_York_City\n",
        "\n",
        "Data 4 : Newyork city geographical coordinates data will be utilized as input for the Foursquare API, that will be leveraged to provision venues information for each neighborhood.We will use the Foursquare API to explore neighborhoods in New York City. "
      ]
    },
    {
      "cell_type": "code",
      "metadata": {
        "id": "ZxMiR47traUO",
        "colab_type": "code",
        "colab": {}
      },
      "source": [
        ""
      ],
      "execution_count": 0,
      "outputs": []
    }
  ]
}