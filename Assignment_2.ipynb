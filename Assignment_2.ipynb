{
  "nbformat": 4,
  "nbformat_minor": 0,
  "metadata": {
    "colab": {
      "name": "Assignment-2.ipynb",
      "provenance": [],
      "authorship_tag": "ABX9TyNJXpp45z6C0cFStYD1hyoy",
      "include_colab_link": true
    },
    "kernelspec": {
      "name": "python3",
      "display_name": "Python 3"
    }
  },
  "cells": [
    {
      "cell_type": "markdown",
      "metadata": {
        "id": "view-in-github",
        "colab_type": "text"
      },
      "source": [
        "<a href=\"https://colab.research.google.com/github/mitali-datascientist/Coursera_Capstone/blob/master/Assignment_2.ipynb\" target=\"_parent\"><img src=\"https://colab.research.google.com/assets/colab-badge.svg\" alt=\"Open In Colab\"/></a>"
      ]
    },
    {
      "cell_type": "markdown",
      "metadata": {
        "id": "EvqB8_hKh-qT",
        "colab_type": "text"
      },
      "source": [
        "# Part - II :: Using Geocoder to add latitude and longitude to our toronto dataframe"
      ]
    },
    {
      "cell_type": "code",
      "metadata": {
        "id": "4OuDKfz9iKO3",
        "colab_type": "code",
        "colab": {
          "base_uri": "https://localhost:8080/",
          "height": 289
        },
        "outputId": "2f6db56c-614a-4cff-a970-facc4a8cc44c"
      },
      "source": [
        "pip install geocoder"
      ],
      "execution_count": 3,
      "outputs": [
        {
          "output_type": "stream",
          "text": [
            "Collecting geocoder\n",
            "\u001b[?25l  Downloading https://files.pythonhosted.org/packages/4f/6b/13166c909ad2f2d76b929a4227c952630ebaf0d729f6317eb09cbceccbab/geocoder-1.38.1-py2.py3-none-any.whl (98kB)\n",
            "\r\u001b[K     |███▎                            | 10kB 23.5MB/s eta 0:00:01\r\u001b[K     |██████▋                         | 20kB 3.3MB/s eta 0:00:01\r\u001b[K     |██████████                      | 30kB 4.8MB/s eta 0:00:01\r\u001b[K     |█████████████▎                  | 40kB 3.1MB/s eta 0:00:01\r\u001b[K     |████████████████▋               | 51kB 3.8MB/s eta 0:00:01\r\u001b[K     |████████████████████            | 61kB 4.6MB/s eta 0:00:01\r\u001b[K     |███████████████████████▎        | 71kB 5.2MB/s eta 0:00:01\r\u001b[K     |██████████████████████████▋     | 81kB 5.9MB/s eta 0:00:01\r\u001b[K     |██████████████████████████████  | 92kB 6.6MB/s eta 0:00:01\r\u001b[K     |████████████████████████████████| 102kB 3.9MB/s \n",
            "\u001b[?25hRequirement already satisfied: six in /usr/local/lib/python3.6/dist-packages (from geocoder) (1.12.0)\n",
            "Requirement already satisfied: click in /usr/local/lib/python3.6/dist-packages (from geocoder) (7.0)\n",
            "Collecting ratelim\n",
            "  Downloading https://files.pythonhosted.org/packages/f2/98/7e6d147fd16a10a5f821db6e25f192265d6ecca3d82957a4fdd592cad49c/ratelim-0.1.6-py2.py3-none-any.whl\n",
            "Requirement already satisfied: requests in /usr/local/lib/python3.6/dist-packages (from geocoder) (2.21.0)\n",
            "Requirement already satisfied: future in /usr/local/lib/python3.6/dist-packages (from geocoder) (0.16.0)\n",
            "Requirement already satisfied: decorator in /usr/local/lib/python3.6/dist-packages (from ratelim->geocoder) (4.4.1)\n",
            "Requirement already satisfied: urllib3<1.25,>=1.21.1 in /usr/local/lib/python3.6/dist-packages (from requests->geocoder) (1.24.3)\n",
            "Requirement already satisfied: certifi>=2017.4.17 in /usr/local/lib/python3.6/dist-packages (from requests->geocoder) (2019.11.28)\n",
            "Requirement already satisfied: idna<2.9,>=2.5 in /usr/local/lib/python3.6/dist-packages (from requests->geocoder) (2.8)\n",
            "Requirement already satisfied: chardet<3.1.0,>=3.0.2 in /usr/local/lib/python3.6/dist-packages (from requests->geocoder) (3.0.4)\n",
            "Installing collected packages: ratelim, geocoder\n",
            "Successfully installed geocoder-1.38.1 ratelim-0.1.6\n"
          ],
          "name": "stdout"
        }
      ]
    },
    {
      "cell_type": "code",
      "metadata": {
        "id": "orSMZkQ8h7kU",
        "colab_type": "code",
        "colab": {}
      },
      "source": [
        "## Importing libraries \n",
        "import pandas as pd \n",
        "import numpy as np \n",
        "import geocoder\n",
        "from geopy.geocoders import Nominatim"
      ],
      "execution_count": 0,
      "outputs": []
    },
    {
      "cell_type": "code",
      "metadata": {
        "id": "5IC58i8riQp2",
        "colab_type": "code",
        "colab": {}
      },
      "source": [
        "#Read file \n",
        "toronto_df = pd.read_csv('toronto.csv')\n"
      ],
      "execution_count": 0,
      "outputs": []
    },
    {
      "cell_type": "code",
      "metadata": {
        "id": "ACBe7LjRiX1A",
        "colab_type": "code",
        "colab": {
          "base_uri": "https://localhost:8080/",
          "height": 204
        },
        "outputId": "3edf604c-83ce-4f6e-e837-9241d329845c"
      },
      "source": [
        "toronto_df = toronto_df[['Postcode', 'Borough', 'Neighbourhood']]\n",
        "toronto_df.head()"
      ],
      "execution_count": 7,
      "outputs": [
        {
          "output_type": "execute_result",
          "data": {
            "text/html": [
              "<div>\n",
              "<style scoped>\n",
              "    .dataframe tbody tr th:only-of-type {\n",
              "        vertical-align: middle;\n",
              "    }\n",
              "\n",
              "    .dataframe tbody tr th {\n",
              "        vertical-align: top;\n",
              "    }\n",
              "\n",
              "    .dataframe thead th {\n",
              "        text-align: right;\n",
              "    }\n",
              "</style>\n",
              "<table border=\"1\" class=\"dataframe\">\n",
              "  <thead>\n",
              "    <tr style=\"text-align: right;\">\n",
              "      <th></th>\n",
              "      <th>Postcode</th>\n",
              "      <th>Borough</th>\n",
              "      <th>Neighbourhood</th>\n",
              "    </tr>\n",
              "  </thead>\n",
              "  <tbody>\n",
              "    <tr>\n",
              "      <th>0</th>\n",
              "      <td>M1B</td>\n",
              "      <td>Scarborough</td>\n",
              "      <td>Rouge, Malvern</td>\n",
              "    </tr>\n",
              "    <tr>\n",
              "      <th>1</th>\n",
              "      <td>M1C</td>\n",
              "      <td>Scarborough</td>\n",
              "      <td>Highland Creek, Rouge Hill, Port Union</td>\n",
              "    </tr>\n",
              "    <tr>\n",
              "      <th>2</th>\n",
              "      <td>M1E</td>\n",
              "      <td>Scarborough</td>\n",
              "      <td>Guildwood, Morningside, West Hill</td>\n",
              "    </tr>\n",
              "    <tr>\n",
              "      <th>3</th>\n",
              "      <td>M1G</td>\n",
              "      <td>Scarborough</td>\n",
              "      <td>Woburn</td>\n",
              "    </tr>\n",
              "    <tr>\n",
              "      <th>4</th>\n",
              "      <td>M1H</td>\n",
              "      <td>Scarborough</td>\n",
              "      <td>Cedarbrae</td>\n",
              "    </tr>\n",
              "  </tbody>\n",
              "</table>\n",
              "</div>"
            ],
            "text/plain": [
              "  Postcode      Borough                           Neighbourhood\n",
              "0      M1B  Scarborough                          Rouge, Malvern\n",
              "1      M1C  Scarborough  Highland Creek, Rouge Hill, Port Union\n",
              "2      M1E  Scarborough       Guildwood, Morningside, West Hill\n",
              "3      M1G  Scarborough                                  Woburn\n",
              "4      M1H  Scarborough                               Cedarbrae"
            ]
          },
          "metadata": {
            "tags": []
          },
          "execution_count": 7
        }
      ]
    },
    {
      "cell_type": "code",
      "metadata": {
        "id": "lA9zcgz2jt1X",
        "colab_type": "code",
        "colab": {}
      },
      "source": [
        "lat = []\n",
        "lng = []\n",
        "\n",
        "for postcode in toronto_df['Postcode']:\n",
        "    location = None\n",
        "    while (location is None):\n",
        "        location = geocoder.arcgis('{}, Toronto, Canada'.format(postcode))\n",
        "        lat.append(location.latlng[0])\n",
        "        lng.append(location.latlng[1])\n",
        "\n",
        "toronto_df['Latitude'] = lat\n",
        "toronto_df['Longitude'] = lng"
      ],
      "execution_count": 0,
      "outputs": []
    },
    {
      "cell_type": "code",
      "metadata": {
        "id": "hUKE-_AejwTK",
        "colab_type": "code",
        "colab": {
          "base_uri": "https://localhost:8080/",
          "height": 514
        },
        "outputId": "cbdd9426-7732-4cc6-c31a-c1f79771a72a"
      },
      "source": [
        "toronto_df.head(15)\n"
      ],
      "execution_count": 9,
      "outputs": [
        {
          "output_type": "execute_result",
          "data": {
            "text/html": [
              "<div>\n",
              "<style scoped>\n",
              "    .dataframe tbody tr th:only-of-type {\n",
              "        vertical-align: middle;\n",
              "    }\n",
              "\n",
              "    .dataframe tbody tr th {\n",
              "        vertical-align: top;\n",
              "    }\n",
              "\n",
              "    .dataframe thead th {\n",
              "        text-align: right;\n",
              "    }\n",
              "</style>\n",
              "<table border=\"1\" class=\"dataframe\">\n",
              "  <thead>\n",
              "    <tr style=\"text-align: right;\">\n",
              "      <th></th>\n",
              "      <th>Postcode</th>\n",
              "      <th>Borough</th>\n",
              "      <th>Neighbourhood</th>\n",
              "      <th>Latitude</th>\n",
              "      <th>Longitude</th>\n",
              "    </tr>\n",
              "  </thead>\n",
              "  <tbody>\n",
              "    <tr>\n",
              "      <th>0</th>\n",
              "      <td>M1B</td>\n",
              "      <td>Scarborough</td>\n",
              "      <td>Rouge, Malvern</td>\n",
              "      <td>43.811525</td>\n",
              "      <td>-79.195517</td>\n",
              "    </tr>\n",
              "    <tr>\n",
              "      <th>1</th>\n",
              "      <td>M1C</td>\n",
              "      <td>Scarborough</td>\n",
              "      <td>Highland Creek, Rouge Hill, Port Union</td>\n",
              "      <td>43.785665</td>\n",
              "      <td>-79.158725</td>\n",
              "    </tr>\n",
              "    <tr>\n",
              "      <th>2</th>\n",
              "      <td>M1E</td>\n",
              "      <td>Scarborough</td>\n",
              "      <td>Guildwood, Morningside, West Hill</td>\n",
              "      <td>43.765815</td>\n",
              "      <td>-79.175193</td>\n",
              "    </tr>\n",
              "    <tr>\n",
              "      <th>3</th>\n",
              "      <td>M1G</td>\n",
              "      <td>Scarborough</td>\n",
              "      <td>Woburn</td>\n",
              "      <td>43.768369</td>\n",
              "      <td>-79.217590</td>\n",
              "    </tr>\n",
              "    <tr>\n",
              "      <th>4</th>\n",
              "      <td>M1H</td>\n",
              "      <td>Scarborough</td>\n",
              "      <td>Cedarbrae</td>\n",
              "      <td>43.769688</td>\n",
              "      <td>-79.239440</td>\n",
              "    </tr>\n",
              "    <tr>\n",
              "      <th>5</th>\n",
              "      <td>M1J</td>\n",
              "      <td>Scarborough</td>\n",
              "      <td>Scarborough Village</td>\n",
              "      <td>43.743125</td>\n",
              "      <td>-79.231750</td>\n",
              "    </tr>\n",
              "    <tr>\n",
              "      <th>6</th>\n",
              "      <td>M1K</td>\n",
              "      <td>Scarborough</td>\n",
              "      <td>East Birchmount Park, Ionview, Kennedy Park</td>\n",
              "      <td>43.726276</td>\n",
              "      <td>-79.263625</td>\n",
              "    </tr>\n",
              "    <tr>\n",
              "      <th>7</th>\n",
              "      <td>M1L</td>\n",
              "      <td>Scarborough</td>\n",
              "      <td>Clairlea, Golden Mile, Oakridge</td>\n",
              "      <td>43.713054</td>\n",
              "      <td>-79.285055</td>\n",
              "    </tr>\n",
              "    <tr>\n",
              "      <th>8</th>\n",
              "      <td>M1M</td>\n",
              "      <td>Scarborough</td>\n",
              "      <td>Cliffcrest, Cliffside, Scarborough Village West</td>\n",
              "      <td>43.724235</td>\n",
              "      <td>-79.227925</td>\n",
              "    </tr>\n",
              "    <tr>\n",
              "      <th>9</th>\n",
              "      <td>M1N</td>\n",
              "      <td>Scarborough</td>\n",
              "      <td>Birch Cliff, Cliffside West</td>\n",
              "      <td>43.696770</td>\n",
              "      <td>-79.259967</td>\n",
              "    </tr>\n",
              "    <tr>\n",
              "      <th>10</th>\n",
              "      <td>M1P</td>\n",
              "      <td>Scarborough</td>\n",
              "      <td>Dorset Park, Scarborough Town Centre, Wexford ...</td>\n",
              "      <td>43.759975</td>\n",
              "      <td>-79.268974</td>\n",
              "    </tr>\n",
              "    <tr>\n",
              "      <th>11</th>\n",
              "      <td>M1R</td>\n",
              "      <td>Scarborough</td>\n",
              "      <td>Maryvale, Wexford</td>\n",
              "      <td>43.750710</td>\n",
              "      <td>-79.300560</td>\n",
              "    </tr>\n",
              "    <tr>\n",
              "      <th>12</th>\n",
              "      <td>M1S</td>\n",
              "      <td>Scarborough</td>\n",
              "      <td>Agincourt</td>\n",
              "      <td>43.793940</td>\n",
              "      <td>-79.267976</td>\n",
              "    </tr>\n",
              "    <tr>\n",
              "      <th>13</th>\n",
              "      <td>M1T</td>\n",
              "      <td>Scarborough</td>\n",
              "      <td>Clarks Corners, Sullivan, Tam O'Shanter</td>\n",
              "      <td>43.784725</td>\n",
              "      <td>-79.299066</td>\n",
              "    </tr>\n",
              "    <tr>\n",
              "      <th>14</th>\n",
              "      <td>M1V</td>\n",
              "      <td>Scarborough</td>\n",
              "      <td>Agincourt North, L'Amoreaux East, Milliken, St...</td>\n",
              "      <td>43.817685</td>\n",
              "      <td>-79.280187</td>\n",
              "    </tr>\n",
              "  </tbody>\n",
              "</table>\n",
              "</div>"
            ],
            "text/plain": [
              "   Postcode      Borough  ...   Latitude  Longitude\n",
              "0       M1B  Scarborough  ...  43.811525 -79.195517\n",
              "1       M1C  Scarborough  ...  43.785665 -79.158725\n",
              "2       M1E  Scarborough  ...  43.765815 -79.175193\n",
              "3       M1G  Scarborough  ...  43.768369 -79.217590\n",
              "4       M1H  Scarborough  ...  43.769688 -79.239440\n",
              "5       M1J  Scarborough  ...  43.743125 -79.231750\n",
              "6       M1K  Scarborough  ...  43.726276 -79.263625\n",
              "7       M1L  Scarborough  ...  43.713054 -79.285055\n",
              "8       M1M  Scarborough  ...  43.724235 -79.227925\n",
              "9       M1N  Scarborough  ...  43.696770 -79.259967\n",
              "10      M1P  Scarborough  ...  43.759975 -79.268974\n",
              "11      M1R  Scarborough  ...  43.750710 -79.300560\n",
              "12      M1S  Scarborough  ...  43.793940 -79.267976\n",
              "13      M1T  Scarborough  ...  43.784725 -79.299066\n",
              "14      M1V  Scarborough  ...  43.817685 -79.280187\n",
              "\n",
              "[15 rows x 5 columns]"
            ]
          },
          "metadata": {
            "tags": []
          },
          "execution_count": 9
        }
      ]
    },
    {
      "cell_type": "code",
      "metadata": {
        "id": "92mCPjH_kASc",
        "colab_type": "code",
        "colab": {}
      },
      "source": [
        ""
      ],
      "execution_count": 0,
      "outputs": []
    }
  ]
}