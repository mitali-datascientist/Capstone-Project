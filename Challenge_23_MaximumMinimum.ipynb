{
  "nbformat": 4,
  "nbformat_minor": 0,
  "metadata": {
    "colab": {
      "name": "Challenge-23: MaximumMinimum.ipynb",
      "provenance": [],
      "authorship_tag": "ABX9TyMTain/Nbuo0DcifTlfnZLq"
    },
    "kernelspec": {
      "name": "python3",
      "display_name": "Python 3"
    }
  },
  "cells": [
    {
      "cell_type": "markdown",
      "metadata": {
        "id": "GKtiA2NKAhY8"
      },
      "source": [
        "### Maximum Vs Minimum (100 Marks)\n",
        "For this challenge, you need to take number of elements as input on one line and array elements as an input on another line. You need to find the minimum number and maximum number from the array and multiply them.\n",
        "\n",
        "###### Input Format\n",
        "In this challenge, you will take number of elements as input on one line and array elements which are space separated as input on another line. \n",
        "\n",
        "###### Constraints\n",
        "1 < N < 10^5\n",
        "1 < A[i] < 10^5\n",
        "\n",
        "###### Output Format\n",
        "You will print the value after multiplication to the stdout. \n",
        "\n",
        "###### Sample TestCase 1\n",
        "###### Input\n",
        "6\n",
        "11 22 33 44 55 66\n",
        "###### Output\n",
        "726"
      ]
    },
    {
      "cell_type": "code",
      "metadata": {
        "id": "sJ_4P74aAVr2"
      },
      "source": [
        "def main():\n",
        "\n",
        " # Write code here \n",
        " n = int(input())\n",
        " lst = list(map(int,input(\"\").strip().split()))[:n]\n",
        " print(max(lst) * min(lst))\n",
        " \n",
        "main()\n"
      ],
      "execution_count": null,
      "outputs": []
    }
  ]
}