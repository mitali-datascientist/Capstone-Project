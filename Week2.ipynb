{
  "nbformat": 4,
  "nbformat_minor": 0,
  "metadata": {
    "colab": {
      "name": "Week2",
      "provenance": [],
      "authorship_tag": "ABX9TyOHQdjKs6AQJ9lIN3RUcbem",
      "include_colab_link": true
    },
    "kernelspec": {
      "name": "python3",
      "display_name": "Python 3"
    }
  },
  "cells": [
    {
      "cell_type": "markdown",
      "metadata": {
        "id": "view-in-github",
        "colab_type": "text"
      },
      "source": [
        "<a href=\"https://colab.research.google.com/github/mitali-datascientist/Coursera_Capstone/blob/master/Week2.ipynb\" target=\"_parent\"><img src=\"https://colab.research.google.com/assets/colab-badge.svg\" alt=\"Open In Colab\"/></a>"
      ]
    },
    {
      "cell_type": "markdown",
      "metadata": {
        "id": "DVXcN6ZMN-ye",
        "colab_type": "text"
      },
      "source": [
        "# Capstone Project - The Battle of Neighborhoods\n",
        "### Introduction\n",
        "New York is the largest city in the United States with a long history of international immigration and diversity. Over the last decade the city has been growing faster than the region. The New York region continues to be by far the leading metropolitan gateway for legal immigrants admitted into the United States.\n",
        "\n",
        "Throughout its history, New York City has been a major point of entry for immigrants; the term \"melting pot\" was coined to describe densely populated immigrant neighborhoods on the Lower East Side. As many as 800 languages are spoken in New York, making it the most linguistically diverse city in the world. English remains the most widely spoken language, although there are areas in the outer boroughs in which up to 25% of people speak English as an alternate language, and/or have limited or no English language fluency. English is least spoken in neighborhoods such as Flushing, Sunset Park, and Corona.\n",
        "\n",
        "With it's diverse culture , comes diverse food items. There are many resturants in New york City, each beloning to different categories like Chinese , Indian , French etc.\n",
        "\n",
        "So as part of this project , we will list and visualize all major parts of New York City that has great indian resturants.\n",
        "\n",
        "Data\n",
        "For this project we need the following data :\n",
        "\n",
        "New York City data that contains list Boroughs, Neighborhoods along with their latitude and longitude.\n",
        "Data source : https://cocl.us/new_york_dataset\n",
        "Description : This data set contains the required information. And we will use this data set to explore various neighborhoods of new york city.\n",
        "Indian resturants in each neighborhood of new york city.\n",
        "Data source : Fousquare API\n",
        "Description : By using this api we will get all the venues in each neighborhood. We can filter these venues to get only indian resturants.\n",
        "GeoSpace data\n",
        "Data source : https://data.cityofnewyork.us/City-Government/Borough-Boundaries/tqmj-j8zm\n",
        "Description : By using this geo space data we will get the New york Borough boundaries that will help us visualize choropleth map.\n",
        "Approach\n",
        "Collect the new york city data from https://cocl.us/new_york_dataset\n",
        "Using FourSquare API we will find all venues for each neighborhood.\n",
        "Filter out all venues that are Indian Resturants.\n",
        "Find rating , tips and like count for each Indian Resturants using FourSquare API.\n",
        "Using rating for each resturant , we will sort that data.\n",
        "Visualize the Ranking of neighborhoods using folium library(python)\n",
        "Questions that can be asked using the above mentioned datasets\n",
        "What is best location in New York City for Indian Cuisine ?\n",
        "Which areas have potential Indian Resturant Market ?\n",
        "Which all areas lack Indian Resturants ?\n",
        "Which is the best place to stay if I prefer Indian Cuisine ?\n",
        "Analysis\n",
        "We will import the required libraries for python.\n",
        "\n",
        "pandas and numpy for handling data.\n",
        "request module for using FourSquare API.\n",
        "geopy to get co-ordinates of City of New York.\n",
        "folium to visualize the results on a map"
      ]
    },
    {
      "cell_type": "code",
      "metadata": {
        "id": "OTGSuEVxOctJ",
        "colab_type": "code",
        "colab": {
          "base_uri": "https://localhost:8080/",
          "height": 289
        },
        "outputId": "89d7d9a9-bd16-422f-86e4-161d539ff42c"
      },
      "source": [
        "pip install geocoder "
      ],
      "execution_count": 4,
      "outputs": [
        {
          "output_type": "stream",
          "text": [
            "Collecting geocoder\n",
            "\u001b[?25l  Downloading https://files.pythonhosted.org/packages/4f/6b/13166c909ad2f2d76b929a4227c952630ebaf0d729f6317eb09cbceccbab/geocoder-1.38.1-py2.py3-none-any.whl (98kB)\n",
            "\r\u001b[K     |███▎                            | 10kB 18.7MB/s eta 0:00:01\r\u001b[K     |██████▋                         | 20kB 1.7MB/s eta 0:00:01\r\u001b[K     |██████████                      | 30kB 2.5MB/s eta 0:00:01\r\u001b[K     |█████████████▎                  | 40kB 1.7MB/s eta 0:00:01\r\u001b[K     |████████████████▋               | 51kB 2.0MB/s eta 0:00:01\r\u001b[K     |████████████████████            | 61kB 2.4MB/s eta 0:00:01\r\u001b[K     |███████████████████████▎        | 71kB 2.8MB/s eta 0:00:01\r\u001b[K     |██████████████████████████▋     | 81kB 3.2MB/s eta 0:00:01\r\u001b[K     |██████████████████████████████  | 92kB 3.6MB/s eta 0:00:01\r\u001b[K     |████████████████████████████████| 102kB 2.2MB/s \n",
            "\u001b[?25hRequirement already satisfied: click in /usr/local/lib/python3.6/dist-packages (from geocoder) (7.0)\n",
            "Requirement already satisfied: future in /usr/local/lib/python3.6/dist-packages (from geocoder) (0.16.0)\n",
            "Requirement already satisfied: six in /usr/local/lib/python3.6/dist-packages (from geocoder) (1.12.0)\n",
            "Requirement already satisfied: requests in /usr/local/lib/python3.6/dist-packages (from geocoder) (2.21.0)\n",
            "Collecting ratelim\n",
            "  Downloading https://files.pythonhosted.org/packages/f2/98/7e6d147fd16a10a5f821db6e25f192265d6ecca3d82957a4fdd592cad49c/ratelim-0.1.6-py2.py3-none-any.whl\n",
            "Requirement already satisfied: chardet<3.1.0,>=3.0.2 in /usr/local/lib/python3.6/dist-packages (from requests->geocoder) (3.0.4)\n",
            "Requirement already satisfied: urllib3<1.25,>=1.21.1 in /usr/local/lib/python3.6/dist-packages (from requests->geocoder) (1.24.3)\n",
            "Requirement already satisfied: idna<2.9,>=2.5 in /usr/local/lib/python3.6/dist-packages (from requests->geocoder) (2.8)\n",
            "Requirement already satisfied: certifi>=2017.4.17 in /usr/local/lib/python3.6/dist-packages (from requests->geocoder) (2019.11.28)\n",
            "Requirement already satisfied: decorator in /usr/local/lib/python3.6/dist-packages (from ratelim->geocoder) (4.4.1)\n",
            "Installing collected packages: ratelim, geocoder\n",
            "Successfully installed geocoder-1.38.1 ratelim-0.1.6\n"
          ],
          "name": "stdout"
        }
      ]
    },
    {
      "cell_type": "code",
      "metadata": {
        "id": "rsLMj4kB2mGq",
        "colab_type": "code",
        "colab": {
          "base_uri": "https://localhost:8080/",
          "height": 34
        },
        "outputId": "52fb7745-1c7d-42b9-dcc6-d0661e43c348"
      },
      "source": [
        "## Import Libraries \n",
        "import numpy as np\n",
        "import pandas as pd \n",
        "pd.set_option('display.max_columns', None)\n",
        "pd.set_option('display.max_rows', None)\n",
        "import requests\n",
        "from bs4 import BeautifulSoup\n",
        "import geocoder\n",
        "import os\n",
        "import folium # map rendering library\n",
        "from geopy.geocoders import Nominatim # convert an address into latitude and longitude values\n",
        "# Matplotlib and associated plotting modules\n",
        "import matplotlib.pyplot as plt\n",
        "import matplotlib.cm as cm\n",
        "import matplotlib.colors as colors\n",
        "%matplotlib inline\n",
        "\n",
        "\n",
        "print('Libraries imported.')"
      ],
      "execution_count": 5,
      "outputs": [
        {
          "output_type": "stream",
          "text": [
            "Libraries imported.\n"
          ],
          "name": "stdout"
        }
      ]
    },
    {
      "cell_type": "code",
      "metadata": {
        "id": "Sk3NLgv2OTqE",
        "colab_type": "code",
        "colab": {}
      },
      "source": [
        "## Define a function to get the geocodes i.e latitude and longitude of a given location using geopy.\n",
        "\n",
        "def geo_location(address):\n",
        "    # get geo location of address\n",
        "    geolocator = Nominatim(user_agent=\"ny_explorer\")\n",
        "    location = geolocator.geocode(address)\n",
        "    latitude = location.latitude\n",
        "    longitude = location.longitude\n",
        "    return latitude,longitude"
      ],
      "execution_count": 0,
      "outputs": []
    },
    {
      "cell_type": "code",
      "metadata": {
        "id": "uA1GqzZzOkok",
        "colab_type": "code",
        "colab": {}
      },
      "source": [
        "## We define a function to intract with FourSquare API and get top 100 venues within a radius of 1000 metres for a given latitude and longitude. Below function will return us the venue id , venue name and category.\n",
        "\n",
        "def get_venues(lat,lng):\n",
        "    \n",
        "    #set variables\n",
        "    radius=1000\n",
        "    LIMIT=100\n",
        "    CLIENT_ID = os.environ['2LYVWNTR3QXP2TGKQIY4AJKH0RJDSNUWYCBZNR1PTUSYSD5M'] # your Foursquare ID\n",
        "    CLIENT_SECRET = os.environ['VCMSIKJC5NDAZAX2FI5NXLACNB0CR2TRKMCF0L1HSIEAVP0I'] # your Foursquare Secret\n",
        "    VERSION = '20200307' # Foursquare API version\n",
        "    \n",
        "    #url to fetch data from foursquare api\n",
        "    url = 'https://api.foursquare.com/v2/venues/explore?&client_id={}&client_secret={}&v={}&ll={},{}&radius={}&limit={}'.format(\n",
        "            CLIENT_ID, \n",
        "            CLIENT_SECRET, \n",
        "            VERSION, \n",
        "            lat, \n",
        "            lng, \n",
        "            radius, \n",
        "            LIMIT)\n",
        "    \n",
        "    # get all the data\n",
        "    results = requests.get(url).json()\n",
        "    venue_data=results[\"response\"]['groups'][0]['items']\n",
        "    venue_details=[]\n",
        "    for row in venue_data:\n",
        "        try:\n",
        "            venue_id=row['venue']['id']\n",
        "            venue_name=row['venue']['name']\n",
        "            venue_category=row['venue']['categories'][0]['name']\n",
        "            venue_details.append([venue_id,venue_name,venue_category])\n",
        "        except KeyError:\n",
        "            pass\n",
        "        \n",
        "    column_names=['ID','Name','Category']\n",
        "    df = pd.DataFrame(venue_details,columns=column_names)\n",
        "    return df"
      ],
      "execution_count": 0,
      "outputs": []
    },
    {
      "cell_type": "code",
      "metadata": {
        "id": "SQteDcIYPaYu",
        "colab_type": "code",
        "colab": {}
      },
      "source": [
        "## Define a function to get venue details like like count , rating , tip counts for a given venue id. This will be used for ranking.\n",
        "\n",
        "def get_venue_details(venue_id):\n",
        "        \n",
        "    CLIENT_ID = os.environ['2LYVWNTR3QXP2TGKQIY4AJKH0RJDSNUWYCBZNR1PTUSYSD5M'] # your Foursquare ID\n",
        "    CLIENT_SECRET = os.environ['VCMSIKJC5NDAZAX2FI5NXLACNB0CR2TRKMCF0L1HSIEAVP0I'] # your Foursquare Secret\n",
        "    VERSION = '20200307' # Foursquare API version\n",
        "    \n",
        "    #url to fetch data from foursquare api\n",
        "    url = 'https://api.foursquare.com/v2/venues/{}?&client_id={}&client_secret={}&v={}'.format(\n",
        "            venue_id,\n",
        "            CLIENT_ID, \n",
        "            CLIENT_SECRET, \n",
        "            VERSION)\n",
        "    \n",
        "    # get all the data\n",
        "    results = requests.get(url).json()\n",
        "    venue_data=results['response']['venue']\n",
        "    venue_details=[]\n",
        "    try:\n",
        "        venue_id=venue_data['id']\n",
        "        venue_name=venue_data['name']\n",
        "        venue_likes=venue_data['likes']['count']\n",
        "        venue_rating=venue_data['rating']\n",
        "        venue_tips=venue_data['tips']['count']\n",
        "        venue_details.append([venue_id,venue_name,venue_likes,venue_rating,venue_tips])\n",
        "    except KeyError:\n",
        "        pass\n",
        "        \n",
        "    column_names=['ID','Name','Likes','Rating','Tips']\n",
        "    df = pd.DataFrame(venue_details,columns=column_names)\n",
        "    return df"
      ],
      "execution_count": 0,
      "outputs": []
    },
    {
      "cell_type": "code",
      "metadata": {
        "id": "Qop9Ruo7Q6jX",
        "colab_type": "code",
        "colab": {}
      },
      "source": [
        "## Define a funtion to get the new york city data such as Boroughs, Neighborhoods along with their latitude and longitude.\n",
        "\n",
        "def get_new_york_data():\n",
        "    url='https://cocl.us/new_york_dataset'\n",
        "    resp=requests.get(url).json()\n",
        "    # all data is present in features label\n",
        "    features=resp['features']\n",
        "    \n",
        "    # define the dataframe columns\n",
        "    column_names = ['Borough', 'Neighborhood', 'Latitude', 'Longitude'] \n",
        "    # instantiate the dataframe\n",
        "    new_york_data = pd.DataFrame(columns=column_names)\n",
        "    \n",
        "    for data in features:\n",
        "        borough = data['properties']['borough'] \n",
        "        neighborhood_name = data['properties']['name']\n",
        "        \n",
        "        neighborhood_latlon = data['geometry']['coordinates']\n",
        "        neighborhood_lat = neighborhood_latlon[1]\n",
        "        neighborhood_lon = neighborhood_latlon[0]\n",
        "    \n",
        "        new_york_data = new_york_data.append({'Borough': borough,\n",
        "                                          'Neighborhood': neighborhood_name,\n",
        "                                          'Latitude': neighborhood_lat,\n",
        "                                          'Longitude': neighborhood_lon}, ignore_index=True)\n",
        "    \n",
        "    return new_york_data"
      ],
      "execution_count": 0,
      "outputs": []
    },
    {
      "cell_type": "code",
      "metadata": {
        "id": "ahc00rZKRCwD",
        "colab_type": "code",
        "colab": {}
      },
      "source": [
        "# get new york data\n",
        "new_york_data=get_new_york_data()"
      ],
      "execution_count": 0,
      "outputs": []
    },
    {
      "cell_type": "code",
      "metadata": {
        "id": "rOEyYyOhRFsM",
        "colab_type": "code",
        "colab": {
          "base_uri": "https://localhost:8080/",
          "height": 204
        },
        "outputId": "c351d889-9343-4d0a-c7ef-60b71470d040"
      },
      "source": [
        "new_york_data.head()\n"
      ],
      "execution_count": 20,
      "outputs": [
        {
          "output_type": "execute_result",
          "data": {
            "text/html": [
              "<div>\n",
              "<style scoped>\n",
              "    .dataframe tbody tr th:only-of-type {\n",
              "        vertical-align: middle;\n",
              "    }\n",
              "\n",
              "    .dataframe tbody tr th {\n",
              "        vertical-align: top;\n",
              "    }\n",
              "\n",
              "    .dataframe thead th {\n",
              "        text-align: right;\n",
              "    }\n",
              "</style>\n",
              "<table border=\"1\" class=\"dataframe\">\n",
              "  <thead>\n",
              "    <tr style=\"text-align: right;\">\n",
              "      <th></th>\n",
              "      <th>Borough</th>\n",
              "      <th>Neighborhood</th>\n",
              "      <th>Latitude</th>\n",
              "      <th>Longitude</th>\n",
              "    </tr>\n",
              "  </thead>\n",
              "  <tbody>\n",
              "    <tr>\n",
              "      <th>0</th>\n",
              "      <td>Bronx</td>\n",
              "      <td>Wakefield</td>\n",
              "      <td>40.894705</td>\n",
              "      <td>-73.847201</td>\n",
              "    </tr>\n",
              "    <tr>\n",
              "      <th>1</th>\n",
              "      <td>Bronx</td>\n",
              "      <td>Co-op City</td>\n",
              "      <td>40.874294</td>\n",
              "      <td>-73.829939</td>\n",
              "    </tr>\n",
              "    <tr>\n",
              "      <th>2</th>\n",
              "      <td>Bronx</td>\n",
              "      <td>Eastchester</td>\n",
              "      <td>40.887556</td>\n",
              "      <td>-73.827806</td>\n",
              "    </tr>\n",
              "    <tr>\n",
              "      <th>3</th>\n",
              "      <td>Bronx</td>\n",
              "      <td>Fieldston</td>\n",
              "      <td>40.895437</td>\n",
              "      <td>-73.905643</td>\n",
              "    </tr>\n",
              "    <tr>\n",
              "      <th>4</th>\n",
              "      <td>Bronx</td>\n",
              "      <td>Riverdale</td>\n",
              "      <td>40.890834</td>\n",
              "      <td>-73.912585</td>\n",
              "    </tr>\n",
              "  </tbody>\n",
              "</table>\n",
              "</div>"
            ],
            "text/plain": [
              "  Borough Neighborhood   Latitude  Longitude\n",
              "0   Bronx    Wakefield  40.894705 -73.847201\n",
              "1   Bronx   Co-op City  40.874294 -73.829939\n",
              "2   Bronx  Eastchester  40.887556 -73.827806\n",
              "3   Bronx    Fieldston  40.895437 -73.905643\n",
              "4   Bronx    Riverdale  40.890834 -73.912585"
            ]
          },
          "metadata": {
            "tags": []
          },
          "execution_count": 20
        }
      ]
    },
    {
      "cell_type": "code",
      "metadata": {
        "id": "uZvZ288URHo_",
        "colab_type": "code",
        "colab": {
          "base_uri": "https://localhost:8080/",
          "height": 34
        },
        "outputId": "bdf7757d-3b8f-4a7c-a299-7b288dc12e49"
      },
      "source": [
        "new_york_data.shape\n"
      ],
      "execution_count": 21,
      "outputs": [
        {
          "output_type": "execute_result",
          "data": {
            "text/plain": [
              "(306, 4)"
            ]
          },
          "metadata": {
            "tags": []
          },
          "execution_count": 21
        }
      ]
    },
    {
      "cell_type": "code",
      "metadata": {
        "id": "z0ZOq_LWRNDc",
        "colab_type": "code",
        "colab": {
          "base_uri": "https://localhost:8080/",
          "height": 563
        },
        "outputId": "82d542f3-0767-442c-8c4a-b1ff20c5578f"
      },
      "source": [
        "plt.figure(figsize=(9,5), dpi = 100)\n",
        "# title\n",
        "plt.title('Number of Neighborhood for each Borough in New York City')\n",
        "#On x-axis\n",
        "plt.xlabel('Borough', fontsize = 15)\n",
        "#On y-axis\n",
        "plt.ylabel('No.of Neighborhood', fontsize=15)\n",
        "#giving a bar plot\n",
        "new_york_data.groupby('Borough')['Neighborhood'].count().plot(kind='bar')\n",
        "#legend\n",
        "plt.legend()\n",
        "#displays the plot\n",
        "plt.show()"
      ],
      "execution_count": 22,
      "outputs": [
        {
          "output_type": "display_data",
          "data": {
            "image/png": "[encoded data removed]",
            "text/plain": [
              "<Figure size 900x500 with 1 Axes>"
            ]
          },
          "metadata": {
            "tags": []
          }
        }
      ]
    },
    {
      "cell_type": "code",
      "metadata": {
        "id": "MZ20ylVcRRGg",
        "colab_type": "code",
        "colab": {}
      },
      "source": [
        "\n",
        "# prepare neighborhood list that contains indian resturants\n",
        "column_names=['Borough', 'Neighborhood', 'ID','Name']\n",
        "indian_rest_ny=pd.DataFrame(columns=column_names)\n",
        "count=1\n",
        "for row in new_york_data.values.tolist():\n",
        "    Borough, Neighborhood, Latitude, Longitude=row\n",
        "    venues = get_venues(Latitude,Longitude)\n",
        "    indian_resturants=venues[venues['Category']=='Indian Restaurant']   \n",
        "    print('(',count,'/',len(new_york_data),')','Indian Resturants in '+Neighborhood+', '+Borough+':'+str(len(indian_resturants)))\n",
        "    for resturant_detail in indian_resturants.values.tolist():\n",
        "        id, name , category=resturant_detail\n",
        "        indian_rest_ny = indian_rest_ny.append({'Borough': Borough,\n",
        "                                                'Neighborhood': Neighborhood, \n",
        "                                                'ID': id,\n",
        "                                                'Name' : name\n",
        "                                               }, ignore_index=True)\n",
        "    count+=1"
      ],
      "execution_count": 0,
      "outputs": []
    },
    {
      "cell_type": "code",
      "metadata": {
        "id": "U9k_CXdORU4O",
        "colab_type": "code",
        "colab": {}
      },
      "source": [
        "indian_rest_ny.head()\n",
        "indian_rest_ny.shape\n"
      ],
      "execution_count": 0,
      "outputs": []
    },
    {
      "cell_type": "code",
      "metadata": {
        "id": "8wRFDa-OUHon",
        "colab_type": "code",
        "colab": {}
      },
      "source": [
        "plt.figure(figsize=(9,5), dpi = 100)\n",
        "# title\n",
        "plt.title('Number of Indian Resturants for each Borough in New York City')\n",
        "#On x-axis\n",
        "plt.xlabel('Borough', fontsize = 15)\n",
        "#On y-axis\n",
        "plt.ylabel('No.of Indian Resturants', fontsize=15)\n",
        "#giving a bar plot\n",
        "indian_rest_ny.groupby('Borough')['ID'].count().plot(kind='bar')\n",
        "#legend\n",
        "plt.legend()\n",
        "#displays the plot\n",
        "plt.show()"
      ],
      "execution_count": 0,
      "outputs": []
    },
    {
      "cell_type": "code",
      "metadata": {
        "id": "2vGBnc8UUPWw",
        "colab_type": "code",
        "colab": {}
      },
      "source": [
        "plt.figure(figsize=(9,5), dpi = 100)\n",
        "# title\n",
        "plt.title('Number of Indian Resturants for each Neighborhood in New York City')\n",
        "#On x-axis\n",
        "plt.xlabel('Neighborhood', fontsize = 15)\n",
        "#On y-axis\n",
        "plt.ylabel('No.of Indian Resturants', fontsize=15)\n",
        "#giving a bar plot\n",
        "indian_rest_ny.groupby('Neighborhood')['ID'].count().nlargest(5).plot(kind='bar')\n",
        "#legend\n",
        "plt.legend()\n",
        "#displays the plot\n",
        "plt.show()"
      ],
      "execution_count": 0,
      "outputs": []
    },
    {
      "cell_type": "code",
      "metadata": {
        "id": "fqaL3v_2URlb",
        "colab_type": "code",
        "colab": {}
      },
      "source": [
        "indian_rest_ny[indian_rest_ny['Neighborhood']=='Floral Park']\n"
      ],
      "execution_count": 0,
      "outputs": []
    },
    {
      "cell_type": "code",
      "metadata": {
        "id": "-Thh75AqUV1M",
        "colab_type": "code",
        "colab": {}
      },
      "source": [
        "# prepare neighborhood list that contains indian resturants\n",
        "column_names=['Borough', 'Neighborhood', 'ID','Name','Likes','Rating','Tips']\n",
        "indian_rest_stats_ny=pd.DataFrame(columns=column_names)\n",
        "count=1\n",
        "\n",
        "\n",
        "for row in indian_rest_ny.values.tolist():\n",
        "    Borough,Neighborhood,ID,Name=row\n",
        "    try:\n",
        "        venue_details=get_venue_details(ID)\n",
        "        print(venue_details)\n",
        "        id,name,likes,rating,tips=venue_details.values.tolist()[0]\n",
        "    except IndexError:\n",
        "        print('No data available for id=',ID)\n",
        "        # we will assign 0 value for these resturants as they may have been \n",
        "        #recently opened or details does not exist in FourSquare Database\n",
        "        id,name,likes,rating,tips=[0]*5\n",
        "    print('(',count,'/',len(indian_rest_ny),')','processed')\n",
        "    indian_rest_stats_ny = indian_rest_stats_ny.append({'Borough': Borough,\n",
        "                                                'Neighborhood': Neighborhood, \n",
        "                                                'ID': id,\n",
        "                                                'Name' : name,\n",
        "                                                'Likes' : likes,\n",
        "                                                'Rating' : rating,\n",
        "                                                'Tips' : tips\n",
        "                                               }, ignore_index=True)\n",
        "    count+=1"
      ],
      "execution_count": 0,
      "outputs": []
    },
    {
      "cell_type": "code",
      "metadata": {
        "id": "7nknTFz7UZlv",
        "colab_type": "code",
        "colab": {}
      },
      "source": [
        "indian_rest_stats_ny.head()\n",
        "indian_rest_stats_ny.shape\n"
      ],
      "execution_count": 0,
      "outputs": []
    },
    {
      "cell_type": "code",
      "metadata": {
        "id": "9Zdf89HPUfEJ",
        "colab_type": "code",
        "colab": {}
      },
      "source": [
        "indian_rest_ny.shape\n"
      ],
      "execution_count": 0,
      "outputs": []
    },
    {
      "cell_type": "code",
      "metadata": {
        "id": "ZJUL9DYbUg_n",
        "colab_type": "code",
        "colab": {}
      },
      "source": [
        "\n",
        "indian_rest_stats_ny_csv=pd.read_csv('indian_rest_stats_ny.csv')\n",
        "indian_rest_stats_ny_csv.shape\n"
      ],
      "execution_count": 0,
      "outputs": []
    },
    {
      "cell_type": "code",
      "metadata": {
        "id": "Z644SJVJUnbx",
        "colab_type": "code",
        "colab": {}
      },
      "source": [
        "indian_rest_stats_ny_csv.head()\n",
        "indian_rest_stats_ny.info()\n"
      ],
      "execution_count": 0,
      "outputs": []
    },
    {
      "cell_type": "code",
      "metadata": {
        "id": "z4PxEGkCUsUM",
        "colab_type": "code",
        "colab": {}
      },
      "source": [
        "indian_rest_stats_ny['Likes']=indian_rest_stats_ny['Likes'].astype('float64')\n",
        "indian_rest_stats_ny['Tips']=indian_rest_stats_ny['Tips'].astype('float64')\n",
        "indian_rest_stats_ny.info()\n"
      ],
      "execution_count": 0,
      "outputs": []
    },
    {
      "cell_type": "code",
      "metadata": {
        "id": "2gDxdISMUwXN",
        "colab_type": "code",
        "colab": {}
      },
      "source": [
        "# Resturant with maximum Likes\n",
        "indian_rest_stats_ny.iloc[indian_rest_stats_ny['Likes'].idxmax()]"
      ],
      "execution_count": 0,
      "outputs": []
    },
    {
      "cell_type": "code",
      "metadata": {
        "id": "ncJ58DP9U1AG",
        "colab_type": "code",
        "colab": {}
      },
      "source": [
        "\n",
        "# Resturant with maximum Rating\n",
        "indian_rest_stats_ny.iloc[indian_rest_stats_ny['Rating'].idxmax()]"
      ],
      "execution_count": 0,
      "outputs": []
    },
    {
      "cell_type": "code",
      "metadata": {
        "id": "apkkePsZU3eF",
        "colab_type": "code",
        "colab": {}
      },
      "source": [
        "# Resturant with maximum Tips\n",
        "indian_rest_stats_ny.iloc[indian_rest_stats_ny['Tips'].idxmax()]"
      ],
      "execution_count": 0,
      "outputs": []
    },
    {
      "cell_type": "code",
      "metadata": {
        "id": "rKBIxEt7U6q4",
        "colab_type": "code",
        "colab": {}
      },
      "source": [
        "ny_neighborhood_stats=indian_rest_stats_ny.groupby('Neighborhood',as_index=False).mean()[['Neighborhood','Rating']]\n",
        "ny_neighborhood_stats.columns=['Neighborhood','Average Rating']"
      ],
      "execution_count": 0,
      "outputs": []
    },
    {
      "cell_type": "code",
      "metadata": {
        "id": "BuWNdNEFU9Ag",
        "colab_type": "code",
        "colab": {}
      },
      "source": [
        "ny_borough_stats=indian_rest_stats_ny.groupby('Borough',as_index=False).mean()[['Borough','Rating']]\n",
        "ny_borough_stats.columns=['Borough','Average Rating']"
      ],
      "execution_count": 0,
      "outputs": []
    },
    {
      "cell_type": "code",
      "metadata": {
        "id": "ofFWcTGIVGVk",
        "colab_type": "code",
        "colab": {}
      },
      "source": [
        "ny_borough_stats.sort_values(['Average Rating'],ascending=False).head()\n"
      ],
      "execution_count": 0,
      "outputs": []
    },
    {
      "cell_type": "code",
      "metadata": {
        "id": "N5oXs9SRVLlq",
        "colab_type": "code",
        "colab": {}
      },
      "source": [
        "plt.figure(figsize=(9,5), dpi = 100)\n",
        "# title\n",
        "plt.title('Average rating of Indian Resturants for each Borough')\n",
        "#On x-axis\n",
        "plt.xlabel('Borough', fontsize = 15)\n",
        "#On y-axis\n",
        "plt.ylabel('Average Rating', fontsize=15)\n",
        "#giving a bar plot\n",
        "indian_rest_stats_ny.groupby('Borough').mean()['Rating'].plot(kind='bar')\n",
        "#legend\n",
        "plt.legend()\n",
        "#displays the plot\n",
        "plt.show()"
      ],
      "execution_count": 0,
      "outputs": []
    },
    {
      "cell_type": "code",
      "metadata": {
        "id": "uUcgvDA-VOX0",
        "colab_type": "code",
        "colab": {}
      },
      "source": [
        "ny_neighborhood_stats=ny_neighborhood_stats[ny_neighborhood_stats['Average Rating']>=9.0]\n",
        "ny_neighborhood_stats\n"
      ],
      "execution_count": 0,
      "outputs": []
    },
    {
      "cell_type": "code",
      "metadata": {
        "id": "_a3xUHZ2VVNz",
        "colab_type": "code",
        "colab": {}
      },
      "source": [
        "ny_neighborhood_stats=pd.merge(ny_neighborhood_stats,new_york_data, on='Neighborhood')\n",
        "ny_neighborhood_stats=ny_neighborhood_stats[['Borough','Neighborhood','Latitude','Longitude','Average Rating']]"
      ],
      "execution_count": 0,
      "outputs": []
    },
    {
      "cell_type": "code",
      "metadata": {
        "id": "B98qF90kVX09",
        "colab_type": "code",
        "colab": {}
      },
      "source": [
        "ny_neighborhood_stats\n"
      ],
      "execution_count": 0,
      "outputs": []
    },
    {
      "cell_type": "code",
      "metadata": {
        "id": "8fOl5q_oVbzm",
        "colab_type": "code",
        "colab": {}
      },
      "source": [
        "# create map and display it\n",
        "ny_map = folium.Map(location=geo_location('New York'), zoom_start=12)"
      ],
      "execution_count": 0,
      "outputs": []
    },
    {
      "cell_type": "code",
      "metadata": {
        "id": "ECQXkieDVbnI",
        "colab_type": "code",
        "colab": {}
      },
      "source": [
        "\n",
        "# instantiate a feature group for the incidents in the dataframe\n",
        "incidents = folium.map.FeatureGroup()\n",
        "\n",
        "# loop through the 100 crimes and add each to the incidents feature group\n",
        "for lat, lng, in ny_neighborhood_stats[['Latitude','Longitude']].values:\n",
        "    incidents.add_child(\n",
        "        folium.CircleMarker(\n",
        "            [lat, lng],\n",
        "            radius=10, # define how big you want the circle markers to be\n",
        "            color='yellow',\n",
        "            fill=True,\n",
        "            fill_color='blue',\n",
        "            fill_opacity=0.6\n",
        "        )\n",
        "    )"
      ],
      "execution_count": 0,
      "outputs": []
    },
    {
      "cell_type": "code",
      "metadata": {
        "id": "wm81vMCPViT4",
        "colab_type": "code",
        "colab": {}
      },
      "source": [
        "ny_neighborhood_stats['Label']=ny_neighborhood_stats['Neighborhood']+', '+ny_neighborhood_stats['Borough']+'('+ny_neighborhood_stats['Average Rating'].map(str)+')'"
      ],
      "execution_count": 0,
      "outputs": []
    },
    {
      "cell_type": "code",
      "metadata": {
        "id": "dfofb2niVlQQ",
        "colab_type": "code",
        "colab": {}
      },
      "source": [
        "# add pop-up text to each marker on the map\n",
        "for lat, lng, label in ny_neighborhood_stats[['Latitude','Longitude','Label']].values:\n",
        "    folium.Marker([lat, lng], popup=label).add_to(ny_map)        \n",
        "# add incidents to map\n",
        "ny_map.add_child(incidents)"
      ],
      "execution_count": 0,
      "outputs": []
    },
    {
      "cell_type": "code",
      "metadata": {
        "id": "F9xY5ikgVnv1",
        "colab_type": "code",
        "colab": {}
      },
      "source": [
        "ny_map = folium.Map(location=geo_location('New York'), zoom_start=12)\n",
        "ny_geo = r'Borough Boundaries.geojson'\n",
        "\n",
        "ny_map.choropleth(\n",
        "    geo_data=ny_geo,\n",
        "    data=ny_borough_stats,\n",
        "    columns=['Borough', 'Average Rating'],\n",
        "    key_on='feature.properties.boro_name',\n",
        "    fill_color='YlOrRd', \n",
        "    fill_opacity=0.7, \n",
        "    line_opacity=0.2,\n",
        "    legend_name='Average Rating'\n",
        ")\n",
        "\n",
        "# display map\n",
        "# as this is huge map data , we will save it to a file\n",
        "ny_map.save('borough_rating.html')"
      ],
      "execution_count": 0,
      "outputs": []
    },
    {
      "cell_type": "markdown",
      "metadata": {
        "id": "ohx8585zVsEn",
        "colab_type": "text"
      },
      "source": [
        "# **Conclusion**\n",
        "Astoria(Queens), Blissville(Queens), Civic Center(Manhattan) are some of the best neighborhoods for indian cuisine.\n",
        "Manhattan have potential Indian Resturant Market/\n",
        "Staten Island ranks last in average rating of Indian Resturants.\n",
        "Manhattan is the best place to stay if you prefer Indian Cuisine.\n",
        "\n",
        "\n",
        "# **Limitations**\n",
        "The ranking is purely on basis of rating of resturants\n",
        "The accuracy of data depends purely depends on the data provided by FourSquare\n",
        "\n",
        "\n"
      ]
    },
    {
      "cell_type": "code",
      "metadata": {
        "id": "OwLI2ecYV0Wo",
        "colab_type": "code",
        "colab": {}
      },
      "source": [
        ""
      ],
      "execution_count": 0,
      "outputs": []
    }
  ]
}