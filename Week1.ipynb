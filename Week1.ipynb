{
  "nbformat": 4,
  "nbformat_minor": 0,
  "metadata": {
    "colab": {
      "name": "Week1.ipynb",
      "provenance": [],
      "authorship_tag": "ABX9TyMFhWVtlorEZXOZThhJeh5U",
      "include_colab_link": true
    },
    "kernelspec": {
      "name": "python3",
      "display_name": "Python 3"
    }
  },
  "cells": [
    {
      "cell_type": "markdown",
      "metadata": {
        "id": "view-in-github",
        "colab_type": "text"
      },
      "source": [
        "<a href=\"https://colab.research.google.com/github/mitali-datascientist/Coursera_Capstone/blob/master/Week1.ipynb\" target=\"_parent\"><img src=\"https://colab.research.google.com/assets/colab-badge.svg\" alt=\"Open In Colab\"/></a>"
      ]
    },
    {
      "cell_type": "markdown",
      "metadata": {
        "id": "YTtgVPZ8nz_v",
        "colab_type": "text"
      },
      "source": [
        "# **The Battle of the Neighborhoods - Week 1**\n",
        "##Introduction & Business Problem \n",
        "###*Problem Background*\n",
        " \n",
        "  New York is the most populated city in United States. It is diverse and is the financial capital of USA. It provides a lot of business opportunities and business friendly environment. It has attracted many different players into the market. It is a global hub of business and commerce. The city is a major center for banking and finance, retailing, world trade, transportation, tourism, real estate, new media, traditional media, advertising, legal services, accountancy, insurance, theater, fashion, and the arts in the United States.\n",
        "\n",
        "This means that the market is highly competitive. As it is highly developed city so cost of doing business is also one of the highest. Thus, any new business venture or expansion needs to be analysed carefully. The insights derived from analysis will give good understanding of the business environment which help in strategically targeting the market. This will help in reduction of risk. And the Return on Investment will be reasonable.\n",
        "\n",
        "### *Problem Description*\n",
        "  A restaurant is a business which prepares and serves food and drink to customers in return for money, either paid before the meal, after the meal, or with an open account. New York is famous for its excelllent cuisine. It's food culture includes an array of international cuisines influenced by the city's immigrant history.\n",
        "\n",
        "Central and Eastern European immigrants, especially Jewish immigrants - bagels, cheesecake, hot dogs, knishes, and delicatessens\n",
        "Italian immigrants - New York-style pizza and Italian cuisine\n",
        "Jewish immigrants and Irish immigrants - pastrami and corned beef\n",
        "Chinese and other Asian restaurants, sandwich joints, trattorias, diners, and coffeehouses are ubiquitous throughout the city\n",
        "mobile food vendors - Some 4,000 licensed by the city\n",
        "Middle Eastern foods such as falafel and kebabs examples of modern New York street food\n",
        "It is famous for not just Pizzerias, Cafe's but also for fine dining Michelin starred restaurants.The city is home to \"nearly one thousand of the finest and most diverse haute cuisine restaurants in the world\", according to Michelin.\n",
        "\n",
        "So it is evident that to survive in such competitive market it is very important to startegically plan. Various factors need to be studied inorder to decide on the Location such as :\n",
        "\n",
        "New York Population\n",
        "New York City Demographics\n",
        "Are there any Farmers Markets, Wholesale markets etc nearby so that the ingredients can be purchased fresh to maintain quality and cost?\n",
        "Are there any venues like Gyms, Entertainmnet zones, Parks etc nearby where floating population is high etc\n",
        "Who are the competitors in that location?\n",
        "Cuisine served / Menu of the competitors\n",
        "Segmentation of the Borough\n",
        "Untapped markets\n",
        "Saturated markets etc\n",
        "The list can go on...\n",
        "Eventhough well funded XYZ Company Ltd. need to choose the correct location to start its first venture.If this is successful they can replicate the same in other locations. First move is very important, thereby choice of location is very important.\n",
        "\n",
        "###*Target Audience*\n",
        "A friend of mine would like to open a restaurant in New York. The objective is to locate and recommend to the him that which neighborhood of New York city will be the best choice to start a restaurant. \n",
        "\n",
        "This would interest anyone who wants to start a new restaurant in Newyork city.\n",
        "\n",
        "### *Success Criteria*\n",
        "The success criteria of the project will be a good recommendation of borough/Neighborhood choice to him is based on Lack of such restaurants in that location and nearest suppliers of ingredients."
      ]
    },
    {
      "cell_type": "code",
      "metadata": {
        "id": "ZNoSPjiwpBX6",
        "colab_type": "code",
        "colab": {}
      },
      "source": [
        ""
      ],
      "execution_count": 0,
      "outputs": []
    }
  ]
}